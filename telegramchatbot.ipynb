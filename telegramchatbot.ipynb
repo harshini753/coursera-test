{
  "nbformat": 4,
  "nbformat_minor": 0,
  "metadata": {
    "colab": {
      "provenance": [],
      "authorship_tag": "ABX9TyMeTUoojGOSJjN+r5KJdTmK",
      "include_colab_link": true
    },
    "kernelspec": {
      "name": "python3",
      "display_name": "Python 3"
    },
    "language_info": {
      "name": "python"
    }
  },
  "cells": [
    {
      "cell_type": "markdown",
      "metadata": {
        "id": "view-in-github",
        "colab_type": "text"
      },
      "source": [
        "<a href=\"https://colab.research.google.com/github/harshini753/coursera-test/blob/main/telegramchatbot.ipynb\" target=\"_parent\"><img src=\"https://colab.research.google.com/assets/colab-badge.svg\" alt=\"Open In Colab\"/></a>"
      ]
    },
    {
      "cell_type": "code",
      "execution_count": 1,
      "metadata": {
        "colab": {
          "base_uri": "https://localhost:8080/",
          "height": 387
        },
        "id": "sYttWBc10NiT",
        "outputId": "2a8e7592-72c0-45f0-daac-c6b8d06f4e14"
      },
      "outputs": [
        {
          "output_type": "error",
          "ename": "ModuleNotFoundError",
          "evalue": "ignored",
          "traceback": [
            "\u001b[0;31m---------------------------------------------------------------------------\u001b[0m",
            "\u001b[0;31mModuleNotFoundError\u001b[0m                       Traceback (most recent call last)",
            "\u001b[0;32m<ipython-input-1-65866c1b1327>\u001b[0m in \u001b[0;36m<cell line: 2>\u001b[0;34m()\u001b[0m\n\u001b[1;32m      1\u001b[0m \u001b[0;32mimport\u001b[0m \u001b[0mlogging\u001b[0m\u001b[0;34m\u001b[0m\u001b[0;34m\u001b[0m\u001b[0m\n\u001b[0;32m----> 2\u001b[0;31m \u001b[0;32mfrom\u001b[0m \u001b[0mtelegram\u001b[0m \u001b[0;32mimport\u001b[0m \u001b[0mReplyKeyboardMarkup\u001b[0m\u001b[0;34m,\u001b[0m \u001b[0mReplyKeyboardRemove\u001b[0m\u001b[0;34m\u001b[0m\u001b[0;34m\u001b[0m\u001b[0m\n\u001b[0m\u001b[1;32m      3\u001b[0m \u001b[0;32mfrom\u001b[0m \u001b[0mtelegram\u001b[0m\u001b[0;34m.\u001b[0m\u001b[0mext\u001b[0m \u001b[0;32mimport\u001b[0m \u001b[0mUpdater\u001b[0m\u001b[0;34m,\u001b[0m \u001b[0mCommandHandler\u001b[0m\u001b[0;34m,\u001b[0m \u001b[0mMessageHandler\u001b[0m\u001b[0;34m,\u001b[0m \u001b[0mFilters\u001b[0m\u001b[0;34m,\u001b[0m \u001b[0mConversationHandler\u001b[0m\u001b[0;34m\u001b[0m\u001b[0;34m\u001b[0m\u001b[0m\n\u001b[1;32m      4\u001b[0m \u001b[0;34m\u001b[0m\u001b[0m\n\u001b[1;32m      5\u001b[0m \u001b[0;31m# Enable logging\u001b[0m\u001b[0;34m\u001b[0m\u001b[0;34m\u001b[0m\u001b[0m\n",
            "\u001b[0;31mModuleNotFoundError\u001b[0m: No module named 'telegram'",
            "",
            "\u001b[0;31m---------------------------------------------------------------------------\u001b[0;32m\nNOTE: If your import is failing due to a missing package, you can\nmanually install dependencies using either !pip or !apt.\n\nTo view examples of installing some common dependencies, click the\n\"Open Examples\" button below.\n\u001b[0;31m---------------------------------------------------------------------------\u001b[0m\n"
          ],
          "errorDetails": {
            "actions": [
              {
                "action": "open_url",
                "actionText": "Open Examples",
                "url": "/notebooks/snippets/importing_libraries.ipynb"
              }
            ]
          }
        }
      ],
      "source": [
        "import logging\n",
        "from telegram import ReplyKeyboardMarkup, ReplyKeyboardRemove\n",
        "from telegram.ext import Updater, CommandHandler, MessageHandler, Filters, ConversationHandler\n",
        "\n",
        "# Enable logging\n",
        "logging.basicConfig(format='%(asctime)s - %(name)s - %(levelname)s - %(message)s',\n",
        "                    level=logging.INFO)\n",
        "logger = logging.getLogger(__name__)\n",
        "\n",
        "# Define states for the conversation handler\n",
        "FIRST_NAME, LAST_NAME, EMAIL, COURSE = range(4)\n",
        "\n",
        "# Define a function to start the conversation\n",
        "def start(update, context):\n",
        "    reply_keyboard = [['Submit Application']]\n",
        "    update.message.reply_text(\n",
        "        \"Welcome to XYZ College admission portal. Please enter your first name.\",\n",
        "        reply_markup=ReplyKeyboardMarkup(reply_keyboard, one_time_keyboard=True))\n",
        "    return FIRST_NAME\n",
        "\n",
        "# Define a function to handle the first name\n",
        "def first_name(update, context):\n",
        "    context.user_data['first_name'] = update.message.text\n",
        "    update.message.reply_text(\"Please enter your last name.\")\n",
        "    return LAST_NAME\n",
        "\n",
        "# Define a function to handle the last name\n",
        "def last_name(update, context):\n",
        "    context.user_data['last_name'] = update.message.text\n",
        "    update.message.reply_text(\"Please enter your email address.\")\n",
        "    return EMAIL\n",
        "\n",
        "# Define a function to handle the email address\n",
        "def email(update, context):\n",
        "    context.user_data['email'] = update.message.text\n",
        "    update.message.reply_text(\"Please select the course you want to apply for.\",\n",
        "                              reply_markup=ReplyKeyboardMarkup([['Computer Science', 'Business Administration']],\n",
        "                                                               one_time_keyboard=True))\n",
        "    return COURSE\n",
        "\n",
        "# Define a function to handle the course selection\n",
        "def course(update, context):\n",
        "    context.user_data['course'] = update.message.text\n",
        "    reply_keyboard = [['Yes', 'No']]\n",
        "    update.message.reply_text(\"Do you confirm the details?\",\n",
        "                              reply_markup=ReplyKeyboardMarkup(reply_keyboard, one_time_keyboard=True))\n",
        "    return ConversationHandler.END\n",
        "\n",
        "# Define a function to handle confirmation\n",
        "def confirmation(update, context):\n",
        "    if update.message.text == 'Yes':\n",
        "        # Process application data\n",
        "        first_name = context.user_data['first_name']\n",
        "        last_name = context.user_data['last_name']\n",
        "        email = context.user_data['email']\n",
        "        course = context.user_data['course']\n",
        "        # Send confirmation message\n",
        "        update.message.reply_text(f\"Thank you for your application {first_name} {last_name}! \"\n",
        "                                  f\"An email has been sent to {email} with further instructions.\")\n",
        "    else:\n",
        "        update.message.reply_text(\"Application cancelled.\")\n",
        "\n",
        "    # Clear user data\n",
        "    context.user_data.clear()\n",
        "\n",
        "    return ConversationHandler.END\n",
        "\n",
        "# Define a function to cancel the conversation\n",
        "def cancel(update, context):\n",
        "    update.message.reply_text(\"Application cancelled.\", reply_markup=ReplyKeyboardRemove())\n",
        "    context.user_data.clear()\n",
        "\n",
        "    return ConversationHandler.END\n",
        "\n",
        "def main():\n",
        "    \"\"\"Start the bot.\"\"\"\n",
        "    # Create an Updater object\n",
        "    updater = Updater(\"YOUR_TELEGRAM_BOT_TOKEN\", use_context=True)\n",
        "\n",
        "    # Get the dispatcher to register handlers\n",
        "    dp = updater.dispatcher\n",
        "\n",
        "    # Define the conversation handler\n",
        "    conv_handler = ConversationHandler(\n",
        "        entry_points=[CommandHandler('start', start)],\n",
        "        states={\n",
        "            FIRST_NAME: [MessageHandler(Filters.text, first_name)],\n",
        "            LAST_NAME: [MessageHandler(Filters.text, last_name)],\n",
        "            EMAIL: [MessageHandler(Filters.text, email)],\n",
        "            COURSE: [MessageHandler(Filters.text, course)],\n",
        "        },\n",
        "        fallbacks=[MessageHandler(Filters.regex('^Cancel$'), cancel)],\n",
        "    )\n",
        "\n",
        "    # Add the conversation handler to the dispatcher\n",
        "    dp.add_handler(conv_handler)\n",
        "\n"
      ]
    }
  ]
}